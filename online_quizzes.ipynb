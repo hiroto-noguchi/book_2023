{
  "nbformat": 4,
  "nbformat_minor": 0,
  "metadata": {
    "colab": {
      "provenance": [],
      "authorship_tag": "ABX9TyNEqTldGsAyHEsQMIxtqk2B",
      "include_colab_link": true
    },
    "kernelspec": {
      "name": "python3",
      "display_name": "Python 3"
    },
    "language_info": {
      "name": "python"
    }
  },
  "cells": [
    {
      "cell_type": "markdown",
      "metadata": {
        "id": "view-in-github",
        "colab_type": "text"
      },
      "source": [
        "<a href=\"https://colab.research.google.com/github/hiroto-noguchi/book_2023/blob/main/online_quizzes.ipynb\" target=\"_parent\"><img src=\"https://colab.research.google.com/assets/colab-badge.svg\" alt=\"Open In Colab\"/></a>"
      ]
    },
    {
      "cell_type": "code",
      "source": [
        "import pandas as pd\n",
        "from google.colab import files\n",
        "\n",
        "# ファイルアップロードのUIを表示\n",
        "uploaded = files.upload()\n",
        "\n",
        "# アップロードされたファイルのパスを取得\n",
        "for file_name in uploaded.keys():\n",
        "    file_path = '/content/' + file_name\n",
        "\n",
        "# ファイルを読み込み\n",
        "data = pd.read_excel(file_path, header=None)\n",
        "\n",
        "# Column2が 'Submission' の行だけを抽出（Column2は1を指す）\n",
        "filtered_data = data[data[1] == 'Submission']\n",
        "\n",
        "# Column10の値が一意になるように、Column1の日時を基準にして最新のデータのみを保持（Column10は9を指す）\n",
        "unique_data = filtered_data.sort_values(0, ascending=False).drop_duplicates(9)\n",
        "\n",
        "# 元のファイル名に \"screened\" を追加\n",
        "file_name_parts = file_name.rsplit('.', 1)\n",
        "new_file_name = file_name_parts[0] + '_screened.' + file_name_parts[1]\n",
        "output_path = '/content/' + new_file_name\n",
        "\n",
        "# 結果を新しいExcelファイルとして保存\n",
        "unique_data.to_excel(output_path, index=False)\n",
        "\n",
        "print(f\"Data has been saved to {output_path}\")\n",
        "\n",
        "# 保存したファイルをダウンロード\n",
        "files.download(output_path)\n"
      ],
      "metadata": {
        "id": "qKw7hz12TxBH"
      },
      "execution_count": null,
      "outputs": []
    }
  ]
}