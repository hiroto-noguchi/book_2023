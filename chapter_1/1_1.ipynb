{
  "nbformat": 4,
  "nbformat_minor": 0,
  "metadata": {
    "colab": {
      "provenance": [],
      "authorship_tag": "ABX9TyO5ueT8OueZSrOIs7vdnS+V",
      "include_colab_link": true
    },
    "kernelspec": {
      "name": "python3",
      "display_name": "Python 3"
    },
    "language_info": {
      "name": "python"
    }
  },
  "cells": [
    {
      "cell_type": "markdown",
      "metadata": {
        "id": "view-in-github",
        "colab_type": "text"
      },
      "source": [
        "<a href=\"https://colab.research.google.com/github/hiroto-noguchi/book_2023/blob/main/chapter_1/1_1.ipynb\" target=\"_parent\"><img src=\"https://colab.research.google.com/assets/colab-badge.svg\" alt=\"Open In Colab\"/></a>"
      ]
    },
    {
      "cell_type": "code",
      "execution_count": 1,
      "metadata": {
        "id": "mlNCHESReanQ"
      },
      "outputs": [],
      "source": [
        "''' テキストに説明文を代入する。\n",
        "イコールの前後のスペースはあってもなくてもよい。'''\n",
        "text = 'Python is an easy to learn, \\\n",
        "powerful programming language. It has \\\n",
        "efficient high-level data structures \\\n",
        "and a simple but effective approach to \\\n",
        "object-oriented programming. Python’s \\\n",
        "elegant syntax and dynamic typing, \\\n",
        "together with its interpreted nature, \\\n",
        "make it an ideal language for scripting \\\n",
        "and rapid application development in \\\n",
        "many areas on most platforms.'"
      ]
    },
    {
      "cell_type": "code",
      "source": [
        "# text の中身をプリント（表示）する。\n",
        "text"
      ],
      "metadata": {
        "colab": {
          "base_uri": "https://localhost:8080/",
          "height": 70
        },
        "id": "7VVqS4wGeewZ",
        "outputId": "86e7ab15-775f-4b00-dd6b-a975e9bae52a"
      },
      "execution_count": 2,
      "outputs": [
        {
          "output_type": "execute_result",
          "data": {
            "text/plain": [
              "'Python is an easy to learn, powerful programming language. It has efficient high-level data structures and a simple but effective approach to object-oriented programming. Python’s elegant syntax and dynamic typing, together with its interpreted nature, make it an ideal language for scripting and rapid application development in many areas on most platforms.'"
            ],
            "application/vnd.google.colaboratory.intrinsic+json": {
              "type": "string"
            }
          },
          "metadata": {},
          "execution_count": 2
        }
      ]
    },
    {
      "cell_type": "code",
      "source": [
        "# text を小文字にする。\n",
        "text.lower()"
      ],
      "metadata": {
        "colab": {
          "base_uri": "https://localhost:8080/",
          "height": 70
        },
        "id": "eDgnUFRLejR2",
        "outputId": "acffa3bb-7412-4d58-83e9-6128f807c885"
      },
      "execution_count": 3,
      "outputs": [
        {
          "output_type": "execute_result",
          "data": {
            "text/plain": [
              "'python is an easy to learn, powerful programming language. it has efficient high-level data structures and a simple but effective approach to object-oriented programming. python’s elegant syntax and dynamic typing, together with its interpreted nature, make it an ideal language for scripting and rapid application development in many areas on most platforms.'"
            ],
            "application/vnd.google.colaboratory.intrinsic+json": {
              "type": "string"
            }
          },
          "metadata": {},
          "execution_count": 3
        }
      ]
    },
    {
      "cell_type": "code",
      "source": [
        "# text を小文字にして分割する。\n",
        "text.lower().split()"
      ],
      "metadata": {
        "colab": {
          "base_uri": "https://localhost:8080/"
        },
        "id": "-qmQ88wTekEh",
        "outputId": "d8136627-a4e1-49b4-b36c-a31fe0d9985a"
      },
      "execution_count": 4,
      "outputs": [
        {
          "output_type": "execute_result",
          "data": {
            "text/plain": [
              "['python',\n",
              " 'is',\n",
              " 'an',\n",
              " 'easy',\n",
              " 'to',\n",
              " 'learn,',\n",
              " 'powerful',\n",
              " 'programming',\n",
              " 'language.',\n",
              " 'it',\n",
              " 'has',\n",
              " 'efficient',\n",
              " 'high-level',\n",
              " 'data',\n",
              " 'structures',\n",
              " 'and',\n",
              " 'a',\n",
              " 'simple',\n",
              " 'but',\n",
              " 'effective',\n",
              " 'approach',\n",
              " 'to',\n",
              " 'object-oriented',\n",
              " 'programming.',\n",
              " 'python’s',\n",
              " 'elegant',\n",
              " 'syntax',\n",
              " 'and',\n",
              " 'dynamic',\n",
              " 'typing,',\n",
              " 'together',\n",
              " 'with',\n",
              " 'its',\n",
              " 'interpreted',\n",
              " 'nature,',\n",
              " 'make',\n",
              " 'it',\n",
              " 'an',\n",
              " 'ideal',\n",
              " 'language',\n",
              " 'for',\n",
              " 'scripting',\n",
              " 'and',\n",
              " 'rapid',\n",
              " 'application',\n",
              " 'development',\n",
              " 'in',\n",
              " 'many',\n",
              " 'areas',\n",
              " 'on',\n",
              " 'most',\n",
              " 'platforms.']"
            ]
          },
          "metadata": {},
          "execution_count": 4
        }
      ]
    },
    {
      "cell_type": "code",
      "source": [
        "'''in の後ろのリストの要素の数の分だけループを回し、\n",
        "リストの要素を順にfor の後ろのword に代入する。word\n",
        "はほかの変数名に変えてもよいが、その場合は後続する変数\n",
        "も忘れずに変更する。'''\n",
        "for word in ['a', 'b', 'c']:\n",
        "  # word をプリントする。\n",
        "  print(word)"
      ],
      "metadata": {
        "colab": {
          "base_uri": "https://localhost:8080/"
        },
        "id": "NClJaQysepbW",
        "outputId": "0d777037-5e3e-4c36-e27a-d8a516959bb8"
      },
      "execution_count": 5,
      "outputs": [
        {
          "output_type": "stream",
          "name": "stdout",
          "text": [
            "a\n",
            "b\n",
            "c\n"
          ]
        }
      ]
    },
    {
      "cell_type": "code",
      "source": [
        "''' 小文字化されたテキストのそれぞれの単語をプリントす\n",
        "る。'''\n",
        "for word in text.lower().split():\n",
        "  print(word)"
      ],
      "metadata": {
        "colab": {
          "base_uri": "https://localhost:8080/"
        },
        "id": "wU1shHL6ew_A",
        "outputId": "c9b3ab70-808d-4ff1-9912-3a6f9f19f0f7"
      },
      "execution_count": 6,
      "outputs": [
        {
          "output_type": "stream",
          "name": "stdout",
          "text": [
            "python\n",
            "is\n",
            "an\n",
            "easy\n",
            "to\n",
            "learn,\n",
            "powerful\n",
            "programming\n",
            "language.\n",
            "it\n",
            "has\n",
            "efficient\n",
            "high-level\n",
            "data\n",
            "structures\n",
            "and\n",
            "a\n",
            "simple\n",
            "but\n",
            "effective\n",
            "approach\n",
            "to\n",
            "object-oriented\n",
            "programming.\n",
            "python’s\n",
            "elegant\n",
            "syntax\n",
            "and\n",
            "dynamic\n",
            "typing,\n",
            "together\n",
            "with\n",
            "its\n",
            "interpreted\n",
            "nature,\n",
            "make\n",
            "it\n",
            "an\n",
            "ideal\n",
            "language\n",
            "for\n",
            "scripting\n",
            "and\n",
            "rapid\n",
            "application\n",
            "development\n",
            "in\n",
            "many\n",
            "areas\n",
            "on\n",
            "most\n",
            "platforms.\n"
          ]
        }
      ]
    },
    {
      "cell_type": "code",
      "source": [
        "# リストのそれぞれの要素について同じ処理を繰り返す。\n",
        "for word in ['a', 'b', 'c']:\n",
        "  ''' もしword に入っている要素がb であれば、以下の\n",
        "  処理を実行する。'''\n",
        "  if word == 'b':\n",
        "    # word の中身をプリントする。\n",
        "    print(word)"
      ],
      "metadata": {
        "colab": {
          "base_uri": "https://localhost:8080/"
        },
        "id": "fcCsqpTMezCr",
        "outputId": "d6755362-836a-4191-fc83-fae6d1ff4edc"
      },
      "execution_count": 7,
      "outputs": [
        {
          "output_type": "stream",
          "name": "stdout",
          "text": [
            "b\n"
          ]
        }
      ]
    },
    {
      "cell_type": "code",
      "source": [
        "''' 小文字化された単語それぞれについて同じ処理を繰り返\n",
        "す。'''\n",
        "for word in text.lower().split():\n",
        "  ''' もしword に入っている単語がand であれば、以下\n",
        "  の処理を実行する。'''\n",
        "  if word == 'and':\n",
        "    # word の中身をプリントする。\n",
        "    print(word)"
      ],
      "metadata": {
        "colab": {
          "base_uri": "https://localhost:8080/"
        },
        "id": "8bfPHiORe8_R",
        "outputId": "35672639-e6f0-4d30-a2c7-a8c24d1ab532"
      },
      "execution_count": 8,
      "outputs": [
        {
          "output_type": "stream",
          "name": "stdout",
          "text": [
            "and\n",
            "and\n",
            "and\n"
          ]
        }
      ]
    },
    {
      "cell_type": "code",
      "source": [
        "'''i という変数に0 をセットする。\n",
        "counter など別の名前にしてもよい。'''\n",
        "i = 0\n",
        "for word in text.lower().split():\n",
        "  if word == 'and':\n",
        "    # 単語がword であった場合だけに1 を追加する。\n",
        "    i = i+1\n",
        "    # 複数の要素をプリントしたい場合は、コンマでつなぐ。\n",
        "    print(i, word)"
      ],
      "metadata": {
        "colab": {
          "base_uri": "https://localhost:8080/"
        },
        "id": "KJ9qKmD6fFOK",
        "outputId": "2f5be131-4ab4-4c25-f46a-73ed7a6cfc01"
      },
      "execution_count": 9,
      "outputs": [
        {
          "output_type": "stream",
          "name": "stdout",
          "text": [
            "1 and\n",
            "2 and\n",
            "3 and\n"
          ]
        }
      ]
    },
    {
      "cell_type": "code",
      "source": [
        "i = 0\n",
        "for word in text.lower().split():\n",
        "  if word == 'and':\n",
        "    i = i+1\n",
        "    print(i)"
      ],
      "metadata": {
        "colab": {
          "base_uri": "https://localhost:8080/"
        },
        "id": "_hjcT_jJfNrQ",
        "outputId": "c12d5e39-1594-4a28-d762-e1816a9be26f"
      },
      "execution_count": 10,
      "outputs": [
        {
          "output_type": "stream",
          "name": "stdout",
          "text": [
            "1\n",
            "2\n",
            "3\n"
          ]
        }
      ]
    }
  ]
}