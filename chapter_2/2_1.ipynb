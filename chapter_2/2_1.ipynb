{
  "nbformat": 4,
  "nbformat_minor": 0,
  "metadata": {
    "colab": {
      "provenance": [],
      "authorship_tag": "ABX9TyMbHzNsJC3RmgzJ4SKZ27WN",
      "include_colab_link": true
    },
    "kernelspec": {
      "name": "python3",
      "display_name": "Python 3"
    },
    "language_info": {
      "name": "python"
    }
  },
  "cells": [
    {
      "cell_type": "markdown",
      "metadata": {
        "id": "view-in-github",
        "colab_type": "text"
      },
      "source": [
        "<a href=\"https://colab.research.google.com/github/hiroto-noguchi/book_2023/blob/main/chapter_2/2_1.ipynb\" target=\"_parent\"><img src=\"https://colab.research.google.com/assets/colab-badge.svg\" alt=\"Open In Colab\"/></a>"
      ]
    },
    {
      "cell_type": "code",
      "execution_count": 1,
      "metadata": {
        "colab": {
          "base_uri": "https://localhost:8080/"
        },
        "id": "CVQi67xatZ58",
        "outputId": "8955b226-e2bd-41c7-83db-e4592930d432"
      },
      "outputs": [
        {
          "output_type": "stream",
          "name": "stdout",
          "text": [
            "Mounted at /content/drive\n"
          ]
        }
      ],
      "source": [
        "from google.colab import drive\n",
        "drive.mount('/content/drive')"
      ]
    },
    {
      "cell_type": "code",
      "source": [
        "# os モジュールをインポートする。\n",
        "import os\n",
        "# パスを指定する。\n",
        "path = '/content/drive/MyDrive'\n",
        "# 指定したパスのファイル一覧を取得する。\n",
        "files = os.listdir(path)\n",
        "# ファイル一覧を表示する。\n",
        "for file in files:\n",
        "  print(file)"
      ],
      "metadata": {
        "id": "Yg1TpX59tf-T"
      },
      "execution_count": null,
      "outputs": []
    },
    {
      "cell_type": "code",
      "source": [
        "# os モジュールをインポートする。\n",
        "import os\n",
        "# パスを指定する。\n",
        "path = '/content/drive/MyDrive'\n",
        "# 指定したパスのファイル一覧を取得する。\n",
        "files = os.listdir(path)\n",
        "\n",
        "# ファイル一覧をループで処理する。\n",
        "for file in files:\n",
        "  # ファイルが .wav で終わる場合\n",
        "  if file.endswith('.wav'):\n",
        "    # ファイル名を表示する。\n",
        "    print(file)"
      ],
      "metadata": {
        "id": "hFd2G_kBtueM"
      },
      "execution_count": null,
      "outputs": []
    },
    {
      "cell_type": "code",
      "source": [
        "name = {'0001.wav': '0001_tokyo_28_a',\n",
        "'0002.wav': '0002_osaka_45_b',\n",
        "'0003.wav': '0003_hyogo_64_a'}"
      ],
      "metadata": {
        "id": "oiacivbIt-hr"
      },
      "execution_count": 4,
      "outputs": []
    },
    {
      "cell_type": "code",
      "source": [
        "# パスを指定する。\n",
        "path = '/content/drive/MyDrive/new/'\n",
        "# パス内のファイルをリスト化する。\n",
        "files = os.listdir(path)\n",
        "# ファイルリストをループ処理する。\n",
        "for file in files:\n",
        "  # .wav ファイルの場合\n",
        "  if file.endswith('.wav'):\n",
        "    # ファイル名を変更する。\n",
        "    os.rename(path + file,\n",
        "    path + name[file] + '.wav')"
      ],
      "metadata": {
        "id": "BzijdgfXuCEL"
      },
      "execution_count": 5,
      "outputs": []
    },
    {
      "cell_type": "code",
      "source": [
        "# shutil モジュールをインポートする。\n",
        "import shutil\n",
        "# ファイルをコピーする。\n",
        "shutil.copyfile(\n",
        "'/content/drive/MyDrive/new/'\\\n",
        "'0001_tokyo_28_a.wav',\n",
        "'/content/drive/MyDrive/new2/'\\\n",
        "'0001_tokyo_28_a.wav')"
      ],
      "metadata": {
        "colab": {
          "base_uri": "https://localhost:8080/",
          "height": 35
        },
        "id": "g5bceqsxwQIu",
        "outputId": "09747eb2-aa62-4777-8bc4-a2221376ba77"
      },
      "execution_count": 6,
      "outputs": [
        {
          "output_type": "execute_result",
          "data": {
            "text/plain": [
              "'/content/drive/MyDrive/new2/0001_tokyo_28_a.wav'"
            ],
            "application/vnd.google.colaboratory.intrinsic+json": {
              "type": "string"
            }
          },
          "metadata": {},
          "execution_count": 6
        }
      ]
    },
    {
      "cell_type": "code",
      "source": [
        "# re モジュールをインポートする。\n",
        "import re\n",
        "# パターンをコンパイルする。\n",
        "pattern = re.compile('_a')\n",
        "# パスを設定する。\n",
        "path = '/content/drive/MyDrive/new/'\n",
        "# パス内のファイルをリスト化する。\n",
        "files = os.listdir(path)\n",
        "# ファイルリストをループする。\n",
        "for file in files:\n",
        "  # ファイル名にパターンが含まれている場合\n",
        "  if pattern.search(file):\n",
        "    # ファイルをコピーする。\n",
        "    shutil.copyfile(path + file,\n",
        "    '/content/drive/MyDrive/new3/'\n",
        "    + file)"
      ],
      "metadata": {
        "id": "aUewteXaxbRx"
      },
      "execution_count": 7,
      "outputs": []
    }
  ]
}