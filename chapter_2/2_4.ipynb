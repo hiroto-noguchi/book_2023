{
  "nbformat": 4,
  "nbformat_minor": 0,
  "metadata": {
    "colab": {
      "provenance": [],
      "authorship_tag": "ABX9TyOeP7yTCob/5misbnQQfh2r",
      "include_colab_link": true
    },
    "kernelspec": {
      "name": "python3",
      "display_name": "Python 3"
    },
    "language_info": {
      "name": "python"
    }
  },
  "cells": [
    {
      "cell_type": "markdown",
      "metadata": {
        "id": "view-in-github",
        "colab_type": "text"
      },
      "source": [
        "<a href=\"https://colab.research.google.com/github/hiroto-noguchi/book_2023/blob/main/chapter_2/2_4.ipynb\" target=\"_parent\"><img src=\"https://colab.research.google.com/assets/colab-badge.svg\" alt=\"Open In Colab\"/></a>"
      ]
    },
    {
      "cell_type": "code",
      "execution_count": 1,
      "metadata": {
        "colab": {
          "base_uri": "https://localhost:8080/",
          "height": 313
        },
        "id": "WX1SGrzcEGvs",
        "outputId": "f7e1e679-c38c-480a-f371-fdf8206794da"
      },
      "outputs": [
        {
          "output_type": "stream",
          "name": "stdout",
          "text": [
            "Looking in indexes: https://pypi.org/simple, https://us-python.pkg.dev/colab-wheels/public/simple/\n",
            "Requirement already satisfied: openai in /usr/local/lib/python3.10/dist-packages (0.27.8)\n",
            "Requirement already satisfied: requests>=2.20 in /usr/local/lib/python3.10/dist-packages (from openai) (2.27.1)\n",
            "Requirement already satisfied: tqdm in /usr/local/lib/python3.10/dist-packages (from openai) (4.65.0)\n",
            "Requirement already satisfied: aiohttp in /usr/local/lib/python3.10/dist-packages (from openai) (3.8.4)\n",
            "Requirement already satisfied: urllib3<1.27,>=1.21.1 in /usr/local/lib/python3.10/dist-packages (from requests>=2.20->openai) (1.26.15)\n",
            "Requirement already satisfied: certifi>=2017.4.17 in /usr/local/lib/python3.10/dist-packages (from requests>=2.20->openai) (2022.12.7)\n",
            "Requirement already satisfied: charset-normalizer~=2.0.0 in /usr/local/lib/python3.10/dist-packages (from requests>=2.20->openai) (2.0.12)\n",
            "Requirement already satisfied: idna<4,>=2.5 in /usr/local/lib/python3.10/dist-packages (from requests>=2.20->openai) (3.4)\n",
            "Requirement already satisfied: attrs>=17.3.0 in /usr/local/lib/python3.10/dist-packages (from aiohttp->openai) (23.1.0)\n",
            "Requirement already satisfied: multidict<7.0,>=4.5 in /usr/local/lib/python3.10/dist-packages (from aiohttp->openai) (6.0.4)\n",
            "Requirement already satisfied: async-timeout<5.0,>=4.0.0a3 in /usr/local/lib/python3.10/dist-packages (from aiohttp->openai) (4.0.2)\n",
            "Requirement already satisfied: yarl<2.0,>=1.0 in /usr/local/lib/python3.10/dist-packages (from aiohttp->openai) (1.9.2)\n",
            "Requirement already satisfied: frozenlist>=1.1.1 in /usr/local/lib/python3.10/dist-packages (from aiohttp->openai) (1.3.3)\n",
            "Requirement already satisfied: aiosignal>=1.1.2 in /usr/local/lib/python3.10/dist-packages (from aiohttp->openai) (1.3.1)\n"
          ]
        },
        {
          "output_type": "execute_result",
          "data": {
            "text/plain": [
              "'私はAIのチャットボットで、人工知能によって動作しています。私は自然言語処理技術を使用して、人々とコミュニケーションを取ることができます。私は、様々なトピックについての質問に答えたり、情報を提供したり、会話を楽しんだりすることができます。私は、24時間365日、いつでもどこでも利用できます。'"
            ],
            "application/vnd.google.colaboratory.intrinsic+json": {
              "type": "string"
            }
          },
          "metadata": {},
          "execution_count": 1
        }
      ],
      "source": [
        "# OpenAI をインストールする。\n",
        "!pip install openai\n",
        "# OpenAI をインポートする。\n",
        "import openai\n",
        "# API キーを設定する。\n",
        "openai.api_key = 'API_KEY'\n",
        "# 質問の内容を定義する。\n",
        "content1 = ' あなたのことについて教えてください。'\n",
        "# GPT-3.5-turbo モデルを使って回答を取得する。\n",
        "response1 = openai.ChatCompletion.create(\n",
        "model='gpt-3.5-turbo', # モデルの指定\n",
        "# model='gpt-4',\n",
        "temperature=0,\n",
        "# ランダム性の制御\n",
        "# (0: 一貫性のある回答, 1: より多様な回答)\n",
        "messages=[\n",
        "{'role': 'user', 'content': content1},\n",
        "# ユーザーの質問\n",
        "]\n",
        ")\n",
        "# 取得した回答を表示する。\n",
        "response1['choices'][0]['message']['content']"
      ]
    },
    {
      "cell_type": "code",
      "source": [
        "# ユーザーの質問を定義する。\n",
        "content2 = ' 具体的に何ができるのか教えてください。'\n",
        "'''GPT-3.5-turbo モデルを使って、チャット形式で回答\n",
        "を生成する。'''\n",
        "response2 = openai.ChatCompletion.create(\n",
        "model='gpt-3.5-turbo', # モデルを指定\n",
        "# model='gpt-4',\n",
        "temperature=0,\n",
        "# 生成されるテキストのランダム性を制御\n",
        "messages=[\n",
        "# ユーザーの最初の質問\n",
        "{'role': 'user', 'content': content1},\n",
        "# アシスタントの最初の回答\n",
        "{'role': 'assistant',\n",
        "'content': response1['choices']\\\n",
        "[0]['message']['content']},\n",
        "# ユーザーの2 番目の質問\n",
        "{'role': 'user', 'content': content2},\n",
        "]\n",
        ")\n",
        "# アシスタントの回答を取得する。\n",
        "response2['choices'][0]['message']['content']"
      ],
      "metadata": {
        "colab": {
          "base_uri": "https://localhost:8080/",
          "height": 122
        },
        "id": "WWhMXr0OE1hz",
        "outputId": "97599788-0a7c-4f36-ee84-a55acad7db7b"
      },
      "execution_count": 2,
      "outputs": [
        {
          "output_type": "execute_result",
          "data": {
            "text/plain": [
              "'私は、以下のようなことができます。\\n\\n1. 質問に答える：私に何か質問をすることができます。例えば、天気予報、ニュース、スポーツ、歴史、科学、文化、エンターテインメントなどのトピックについての質問に答えることができます。\\n\\n2. 情報を提供する：私は、あなたが知りたい情報を提供することができます。例えば、地図、電話番号、住所、営業時間、価格、レビューなどの情報を提供することができます。\\n\\n3. 会話を楽しむ：私は、あなたとの会話を楽しむことができます。例えば、ジョークを言ったり、クイズを出したり、話題を提供したりすることができます。\\n\\n4. タスクを実行する：私は、あなたのためにタスクを実行することができます。例えば、リマインダーを設定したり、スケジュールを管理したり、音楽を再生したりすることができます。\\n\\n5. 言語学習：私は、あなたが英語を学ぶのを手助けすることができます。例えば、単語の意味を教えたり、文法を説明したり、会話の練習をしたりすることができます。'"
            ],
            "application/vnd.google.colaboratory.intrinsic+json": {
              "type": "string"
            }
          },
          "metadata": {},
          "execution_count": 2
        }
      ]
    }
  ]
}