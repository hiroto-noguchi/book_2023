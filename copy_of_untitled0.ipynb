{
  "nbformat": 4,
  "nbformat_minor": 0,
  "metadata": {
    "colab": {
      "provenance": [],
      "gpuType": "T4",
      "mount_file_id": "1f4zbhSSxzGA2lrHSLm28hyMfTDse_oqb",
      "authorship_tag": "ABX9TyP2Dl0Ha2B2TexEBeW6qnhy",
      "include_colab_link": true
    },
    "kernelspec": {
      "name": "python3",
      "display_name": "Python 3"
    },
    "language_info": {
      "name": "python"
    },
    "accelerator": "GPU"
  },
  "cells": [
    {
      "cell_type": "markdown",
      "metadata": {
        "id": "view-in-github",
        "colab_type": "text"
      },
      "source": [
        "<a href=\"https://colab.research.google.com/github/hiroto-noguchi/book_2023/blob/main/copy_of_untitled0.ipynb\" target=\"_parent\"><img src=\"https://colab.research.google.com/assets/colab-badge.svg\" alt=\"Open In Colab\"/></a>"
      ]
    },
    {
      "cell_type": "code",
      "source": [
        "from google.colab import drive\n",
        "drive.mount('/content/drive')"
      ],
      "metadata": {
        "id": "jCIL3Hj692K4"
      },
      "execution_count": null,
      "outputs": []
    },
    {
      "cell_type": "code",
      "execution_count": null,
      "metadata": {
        "id": "oth8EuWzJp6n"
      },
      "outputs": [],
      "source": [
        "!pip install git+https://github.com/openai/whisper.git -q"
      ]
    },
    {
      "cell_type": "code",
      "source": [
        "import whisper\n",
        "model = whisper.load_model(\"large\")"
      ],
      "metadata": {
        "id": "qEs17R3AJq7A"
      },
      "execution_count": null,
      "outputs": []
    },
    {
      "cell_type": "code",
      "source": [
        "from google.colab import files\n",
        "import pickle\n",
        "\n",
        "file = ''\n",
        "result = model.transcribe(file, verbose=True)\n",
        "#result = model.transcribe(file, verbose=True, language='en')\n",
        "#result = model.transcribe(file, verbose=True, language='ja')\n",
        "text = result['text']\n",
        "\n",
        "with open(file + \".txt\", \"w\") as text_file:\n",
        "  text_file.write(text)\n",
        "\n",
        "with open(file + \".pickle\", mode=\"wb\") as pickle_file:\n",
        "  pickle.dump(result, pickle_file)\n"
      ],
      "metadata": {
        "id": "MF6OI2qsvN2D"
      },
      "execution_count": null,
      "outputs": []
    }
  ]
}