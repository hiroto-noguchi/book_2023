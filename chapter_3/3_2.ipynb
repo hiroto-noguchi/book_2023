{
  "nbformat": 4,
  "nbformat_minor": 0,
  "metadata": {
    "colab": {
      "provenance": [],
      "authorship_tag": "ABX9TyNBCjpdZvGwakBfOoFntKWe",
      "include_colab_link": true
    },
    "kernelspec": {
      "name": "python3",
      "display_name": "Python 3"
    },
    "language_info": {
      "name": "python"
    }
  },
  "cells": [
    {
      "cell_type": "markdown",
      "metadata": {
        "id": "view-in-github",
        "colab_type": "text"
      },
      "source": [
        "<a href=\"https://colab.research.google.com/github/hiroto-noguchi/book_2023/blob/main/chapter_3/3_2.ipynb\" target=\"_parent\"><img src=\"https://colab.research.google.com/assets/colab-badge.svg\" alt=\"Open In Colab\"/></a>"
      ]
    },
    {
      "cell_type": "code",
      "execution_count": 1,
      "metadata": {
        "colab": {
          "base_uri": "https://localhost:8080/"
        },
        "id": "2Xw97puMVXAp",
        "outputId": "48a05663-f082-4fd0-8c42-b4a19fc5d7e1"
      },
      "outputs": [
        {
          "output_type": "execute_result",
          "data": {
            "text/plain": [
              "{'software': {'name': 'LanguageTool',\n",
              "  'version': '6.2-SNAPSHOT',\n",
              "  'buildDate': '2023-06-17 16:44:25 +0000',\n",
              "  'apiVersion': 1,\n",
              "  'premium': True,\n",
              "  'premiumHint': 'You might be missing errors only the Premium version can find. Contact us at support<at>languagetoolplus.com.',\n",
              "  'status': ''},\n",
              " 'warnings': {'incompleteResults': False},\n",
              " 'language': {'name': 'English (US)',\n",
              "  'code': 'en-US',\n",
              "  'detectedLanguage': {'name': 'English (US)',\n",
              "   'code': 'en-US',\n",
              "   'confidence': 0.99,\n",
              "   'source': 'ngram'}},\n",
              " 'matches': [{'message': 'The singular demonstrative pronoun ‘this’ does not agree with the plural verb ‘are’. Did you mean “these”?',\n",
              "   'shortMessage': 'Grammatical problem: use ‘these’',\n",
              "   'replacements': [{'value': 'These'}],\n",
              "   'offset': 0,\n",
              "   'length': 4,\n",
              "   'context': {'text': 'This are the incorrect sentences.',\n",
              "    'offset': 0,\n",
              "    'length': 4},\n",
              "   'sentence': 'This are the incorrect sentences.',\n",
              "   'type': {'typeName': 'Other'},\n",
              "   'rule': {'id': 'THIS_NNS',\n",
              "    'subId': '5',\n",
              "    'sourceFile': 'grammar.xml',\n",
              "    'description': \"'this' vs. 'these'\",\n",
              "    'issueType': 'grammar',\n",
              "    'category': {'id': 'GRAMMAR', 'name': 'Grammar'},\n",
              "    'isPremium': False},\n",
              "   'ignoreForIncompleteSentence': False,\n",
              "   'contextForSureMatch': 1},\n",
              "  {'message': 'The verb ‘are’ is plural. Did you mean: “is”? Did you use a verb instead of a noun?',\n",
              "   'shortMessage': 'Grammar error',\n",
              "   'replacements': [{'value': 'is'}],\n",
              "   'offset': 5,\n",
              "   'length': 3,\n",
              "   'context': {'text': 'This are the incorrect sentences.',\n",
              "    'offset': 5,\n",
              "    'length': 3},\n",
              "   'sentence': 'This are the incorrect sentences.',\n",
              "   'type': {'typeName': 'Other'},\n",
              "   'rule': {'id': 'PLURAL_VERB_AFTER_THIS',\n",
              "    'subId': '2',\n",
              "    'sourceFile': 'grammar.xml',\n",
              "    'description': \"Plural verb after 'this' or 'that'\",\n",
              "    'issueType': 'grammar',\n",
              "    'category': {'id': 'GRAMMAR', 'name': 'Grammar'},\n",
              "    'isPremium': False},\n",
              "   'ignoreForIncompleteSentence': True,\n",
              "   'contextForSureMatch': -1}],\n",
              " 'sentenceRanges': [[0, 33]]}"
            ]
          },
          "metadata": {},
          "execution_count": 1
        }
      ],
      "source": [
        "# URL を使用した校正をおこなう。\n",
        "import requests\n",
        "import json\n",
        "# API のエンドポイントを指定する。\n",
        "url = 'https://api.languagetool.org/v2/check'\n",
        "# 校正したいテキストを定義する。\n",
        "text = 'This are the incorrect sentences.'\n",
        "# パラメータ（テキストと言語）を設定する。\n",
        "params = {\n",
        "'text': text,\n",
        "'language': 'en-US'\n",
        "}\n",
        "# API にリクエストを送信する。\n",
        "response = requests.post(url, data=params)\n",
        "# レスポンスをJSON 形式に変換する。\n",
        "result = json.loads(response.text)\n",
        "result"
      ]
    },
    {
      "cell_type": "code",
      "source": [
        "# ライブラリーをインストールする。\n",
        "!pip install language-tool-python\n",
        "# ライブラリーをインポートする。\n",
        "from language_tool_python import LanguageTool\n",
        "# 校正するテキストを定義する。\n",
        "text = ' This are the correct sentences.'\n",
        "# LanguageTool インスタンスを作成する。\n",
        "tool = LanguageTool('en-US')\n",
        "# テキストをチェックして、マッチするものを取得する。\n",
        "matches = tool.check(text)\n",
        "matches"
      ],
      "metadata": {
        "colab": {
          "base_uri": "https://localhost:8080/"
        },
        "id": "MYq6jToPVlKE",
        "outputId": "ed84b5b5-b91b-4787-a854-c62c1a53e2e6"
      },
      "execution_count": 2,
      "outputs": [
        {
          "output_type": "stream",
          "name": "stdout",
          "text": [
            "Looking in indexes: https://pypi.org/simple, https://us-python.pkg.dev/colab-wheels/public/simple/\n",
            "Requirement already satisfied: language-tool-python in /usr/local/lib/python3.10/dist-packages (2.7.1)\n",
            "Requirement already satisfied: requests in /usr/local/lib/python3.10/dist-packages (from language-tool-python) (2.27.1)\n",
            "Requirement already satisfied: tqdm in /usr/local/lib/python3.10/dist-packages (from language-tool-python) (4.65.0)\n",
            "Requirement already satisfied: urllib3<1.27,>=1.21.1 in /usr/local/lib/python3.10/dist-packages (from requests->language-tool-python) (1.26.15)\n",
            "Requirement already satisfied: certifi>=2017.4.17 in /usr/local/lib/python3.10/dist-packages (from requests->language-tool-python) (2022.12.7)\n",
            "Requirement already satisfied: charset-normalizer~=2.0.0 in /usr/local/lib/python3.10/dist-packages (from requests->language-tool-python) (2.0.12)\n",
            "Requirement already satisfied: idna<4,>=2.5 in /usr/local/lib/python3.10/dist-packages (from requests->language-tool-python) (3.4)\n"
          ]
        },
        {
          "output_type": "execute_result",
          "data": {
            "text/plain": [
              "[Match({'ruleId': 'THIS_NNS', 'message': 'The singular demonstrative ‘This’ does not agree with the plural verb ‘are’. Did you mean “these”?', 'replacements': ['These'], 'offsetInContext': 1, 'context': ' This are the correct sentences.', 'offset': 1, 'errorLength': 4, 'category': 'GRAMMAR', 'ruleIssueType': 'grammar', 'sentence': 'This are the correct sentences.'}),\n",
              " Match({'ruleId': 'PLURAL_VERB_AFTER_THIS', 'message': 'The verb ‘are’ is plural. Did you mean: “is”? Did you use a verb instead of a noun?', 'replacements': ['is'], 'offsetInContext': 6, 'context': ' This are the correct sentences.', 'offset': 6, 'errorLength': 3, 'category': 'GRAMMAR', 'ruleIssueType': 'grammar', 'sentence': 'This are the correct sentences.'})]"
            ]
          },
          "metadata": {},
          "execution_count": 2
        }
      ]
    },
    {
      "cell_type": "code",
      "source": [
        "# matches の中のエラーを1 つずつ取り出して表示する\n",
        "for error in matches:\n",
        "  print(error)"
      ],
      "metadata": {
        "colab": {
          "base_uri": "https://localhost:8080/"
        },
        "id": "K4Xp9SQIV9vx",
        "outputId": "7d537419-dec3-4cf3-c1b4-2d121c987865"
      },
      "execution_count": 3,
      "outputs": [
        {
          "output_type": "stream",
          "name": "stdout",
          "text": [
            "Offset 1, length 4, Rule ID: THIS_NNS\n",
            "Message: The singular demonstrative ‘This’ does not agree with the plural verb ‘are’. Did you mean “these”?\n",
            "Suggestion: These\n",
            " This are the correct sentences.\n",
            " ^^^^\n",
            "Offset 6, length 3, Rule ID: PLURAL_VERB_AFTER_THIS\n",
            "Message: The verb ‘are’ is plural. Did you mean: “is”? Did you use a verb instead of a noun?\n",
            "Suggestion: is\n",
            " This are the correct sentences.\n",
            "      ^^^\n"
          ]
        }
      ]
    },
    {
      "cell_type": "code",
      "source": [
        "# requests ライブラリーをインポートする。\n",
        "import requests\n",
        "# 翻訳関数を定義する。\n",
        "def translate(text):\n",
        "  # API エンドポイントを設定する。\n",
        "  endpoint = \\\n",
        "  'https://api.mymemory.translated.net/get'\n",
        "  ''' パラメータ（翻訳したいテキストと言語ペア）を設\n",
        "  定する。'''\n",
        "  params = {\n",
        "  'q': text,\n",
        "  'langpair': 'en|ja'\n",
        "  }\n",
        "  # API にリクエストを送信する。\n",
        "  response = requests.get(\n",
        "  endpoint, params=params)\n",
        "  # JSON データを取得する。\n",
        "  data = response.json()\n",
        "  # 翻訳結果を返す。\n",
        "  return data\n",
        "# 翻訳したいテキストを定義する。\n",
        "text = ' This is a grammatically correct sentence.'\n",
        "# テキストを翻訳する。\n",
        "translation = translate(text)\n",
        "# 翻訳結果を表示する。\n",
        "print(translation['responseData']\\\n",
        "['translatedText'])"
      ],
      "metadata": {
        "colab": {
          "base_uri": "https://localhost:8080/"
        },
        "id": "sNyCJpPFWFea",
        "outputId": "33022677-e254-4207-a009-f410bbdd1fe5"
      },
      "execution_count": 4,
      "outputs": [
        {
          "output_type": "stream",
          "name": "stdout",
          "text": [
            "これは文法的に正しい文です。\n"
          ]
        }
      ]
    },
    {
      "cell_type": "code",
      "source": [
        "# マッチしたエラーを1 つずつ処理する。\n",
        "for error in matches:\n",
        "  # エラーメッセージを翻訳する。\n",
        "  translation = translate(error.message)\n",
        "  # 翻訳されたテキストを表示する。\n",
        "  print(translation\\\n",
        "  ['responseData']['translatedText'])"
      ],
      "metadata": {
        "colab": {
          "base_uri": "https://localhost:8080/"
        },
        "id": "juRl4HYfWTDo",
        "outputId": "6ae34cfb-59ad-405a-9dcd-1493b34f88dd"
      },
      "execution_count": 5,
      "outputs": [
        {
          "output_type": "stream",
          "name": "stdout",
          "text": [
            "単数形の「this」は複数形の動詞「are」と一致しません。「これ」の意味でしょうか。\n",
            "動詞「are」は複数形です。つまり「ある」ということでしょうか。名詞の代わりに動詞を使いましたか。\n"
          ]
        }
      ]
    }
  ]
}