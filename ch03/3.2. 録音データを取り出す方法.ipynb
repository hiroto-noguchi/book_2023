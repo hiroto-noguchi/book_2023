{
  "nbformat": 4,
  "nbformat_minor": 0,
  "metadata": {
    "colab": {
      "provenance": [],
      "authorship_tag": "ABX9TyN3VUMEjTi2xrmtx53sXjb8",
      "include_colab_link": true
    },
    "kernelspec": {
      "name": "python3",
      "display_name": "Python 3"
    },
    "language_info": {
      "name": "python"
    }
  },
  "cells": [
    {
      "cell_type": "markdown",
      "metadata": {
        "id": "view-in-github",
        "colab_type": "text"
      },
      "source": [
        "<a href=\"https://colab.research.google.com/github/hiroto-noguchi/book_2023/blob/main/ch03/3.2.%20%E9%8C%B2%E9%9F%B3%E3%83%87%E3%83%BC%E3%82%BF%E3%82%92%E5%8F%96%E3%82%8A%E5%87%BA%E3%81%99%E6%96%B9%E6%B3%95.ipynb\" target=\"_parent\"><img src=\"https://colab.research.google.com/assets/colab-badge.svg\" alt=\"Open In Colab\"/></a>"
      ]
    },
    {
      "cell_type": "code",
      "execution_count": null,
      "metadata": {
        "id": "qOQ33te2L5S7"
      },
      "outputs": [],
      "source": [
        "# モジュールをインポートする。\n",
        "import pandas as pd\n",
        "import base64\n",
        "\n",
        "# Google Drive をマウントする。\n",
        "from google.colab import drive\n",
        "drive.mount('/content/drive')\n",
        "\n",
        "# 保存先のパスを指定する。\n",
        "file_path = '/content/drive/MyDrive'\n",
        "'''Base64 でエンコードされたオーディオファイルに変換\n",
        "する関数を定義する。'''\n",
        "def convert_snd(file_base, s):\n",
        "  # Base64 デコード\n",
        "  snd = (base64.b64decode(repr(s)))\n",
        "  return snd\n",
        "\n",
        "#CSV ファイルを読み込む。\n",
        "df = pd.read_csv('/content/drive/MyDrive/response.csv')\n",
        "# Excel ファイルの各行について処理を実行する。\n",
        "for data in df.itertuples():\n",
        "  ''' もしtrial_type 列の値が 'html-audio-response'\n",
        "  なら、'''\n",
        "  if data.trial_type == 'html-audio-response':\n",
        "    # ファイル名を生成し、\n",
        "    file_base = str(data.run_id)+str(data.trial_index)\n",
        "    # オーディオファイルを変換する。\n",
        "    snd = convert_snd(file_base, data.response)\n",
        "    # ファイルを保存する。\n",
        "    with open(file_path+'/'+file_base+'.wav', 'wb') as f:\n",
        "      f.write(snd)"
      ]
    }
  ]
}