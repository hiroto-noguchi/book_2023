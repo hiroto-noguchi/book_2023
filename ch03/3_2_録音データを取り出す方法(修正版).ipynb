{
  "nbformat": 4,
  "nbformat_minor": 0,
  "metadata": {
    "colab": {
      "provenance": [],
      "authorship_tag": "ABX9TyNjYIOpkzPW733yy0wgMVOL",
      "include_colab_link": true
    },
    "kernelspec": {
      "name": "python3",
      "display_name": "Python 3"
    },
    "language_info": {
      "name": "python"
    }
  },
  "cells": [
    {
      "cell_type": "markdown",
      "metadata": {
        "id": "view-in-github",
        "colab_type": "text"
      },
      "source": [
        "<a href=\"https://colab.research.google.com/github/hiroto-noguchi/book_2023/blob/main/ch03/3_2_%E9%8C%B2%E9%9F%B3%E3%83%87%E3%83%BC%E3%82%BF%E3%82%92%E5%8F%96%E3%82%8A%E5%87%BA%E3%81%99%E6%96%B9%E6%B3%95(%E4%BF%AE%E6%AD%A3%E7%89%88).ipynb\" target=\"_parent\"><img src=\"https://colab.research.google.com/assets/colab-badge.svg\" alt=\"Open In Colab\"/></a>"
      ]
    },
    {
      "cell_type": "code",
      "source": [
        "!pip install pydub\n",
        "import pandas as pd\n",
        "import base64\n",
        "from pydub import AudioSegment\n",
        "\n",
        "# Google Drive をマウントする。\n",
        "from google.colab import drive\n",
        "drive.mount('/content/drive')\n",
        "\n",
        "# 保存先のパスを指定する。\n",
        "file_path = '/content/drive/MyDrive'\n",
        "\n",
        "# Base64 でエンコードされたオーディオファイルに変換する関数を定義する。\n",
        "def convert_snd(file_base, s):\n",
        "    # Base64 デコード\n",
        "    snd = base64.b64decode(s)\n",
        "    return snd\n",
        "\n",
        "# CSV ファイルを読み込む。\n",
        "df = pd.read_csv('/content/drive/MyDrive/response.csv')\n",
        "\n",
        "# Excel ファイルの各行について処理を実行する。\n",
        "for data in df.itertuples():\n",
        "    # もし trial_type 列の値が 'html-audio-response' なら、\n",
        "    if data.trial_type == 'html-audio-response':\n",
        "        # ファイル名を生成し、\n",
        "        file_base = str(data.run_id) + str(data.trial_index)\n",
        "        # オーディオファイルを変換する。\n",
        "        snd = convert_snd(file_base, data.response)\n",
        "        # webmファイルとして保存\n",
        "        temp_webm_path = file_path + '/' + file_base + '.webm'\n",
        "        with open(temp_webm_path, 'wb') as f:\n",
        "            f.write(snd)\n",
        "        # webmをwavに変換\n",
        "        audio = AudioSegment.from_file(temp_webm_path, format=\"webm\")\n",
        "        wav_path = file_path + '/' + file_base + '.wav'\n",
        "        audio.export(wav_path, format=\"wav\")\n"
      ],
      "metadata": {
        "id": "pkwY9mYC18lO"
      },
      "execution_count": null,
      "outputs": []
    }
  ]
}